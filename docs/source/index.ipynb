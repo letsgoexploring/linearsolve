{
 "cells": [
  {
   "cell_type": "raw",
   "metadata": {
    "raw_mimetype": "text/restructuredtext"
   },
   "source": [
    ".. linearsolve documentation master file, created by\n",
    "   sphinx-quickstart on Thu Aug 25 09:46:44 2016.\n",
    "   You can adapt this file completely to your liking, but it should at least\n",
    "   contain the root `toctree` directive.\n",
    "\n",
    "About ``linearsolve``\n",
    "=====================\n",
    "\n",
    "\n",
    "``linearsolve`` is a Python module for approximating, solving, and simulating dynamic stochastic general equilibrium (DSGE) models. ``linearsolve`` is written for Python 3.\n",
    "\n",
    "\n",
    "Installation\n",
    "------------\n",
    "\n",
    "Install ``linearsolve`` from PyPI with the shell command::\n",
    "\n",
    "\n",
    "\tpip install linearsolve\n",
    "\n",
    "\n",
    "Or download the source here: https://github.com/letsgoexploring/linearsolve/blob/gh-pages/dist/linearsolve-3.4.12.tar.gz\n",
    "\n",
    "Contents:\n",
    "==================\n",
    "\n",
    ".. toctree::\n",
    "   :maxdepth: 2\n",
    "   \n",
    "   examples.ipynb\n",
    "   how_linear_solve_works.ipynb\n",
    "   model_class.rst\n",
    "   additional_functions.rst"
   ]
  },
  {
   "cell_type": "raw",
   "metadata": {
    "raw_mimetype": "text/restructuredtext"
   },
   "source": [
    "Indices and tables\n",
    "==================\n",
    "\n",
    "* :ref:`genindex`\n",
    "* :ref:`search`"
   ]
  }
 ],
 "metadata": {
  "celltoolbar": "Raw Cell Format",
  "kernelspec": {
   "display_name": "Python 3",
   "language": "python",
   "name": "python3"
  },
  "language_info": {
   "codemirror_mode": {
    "name": "ipython",
    "version": 3
   },
   "file_extension": ".py",
   "mimetype": "text/x-python",
   "name": "python",
   "nbconvert_exporter": "python",
   "pygments_lexer": "ipython3",
   "version": "3.8.5"
  }
 },
 "nbformat": 4,
 "nbformat_minor": 2
}
